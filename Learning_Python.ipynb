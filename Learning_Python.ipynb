{
  "nbformat": 4,
  "nbformat_minor": 0,
  "metadata": {
    "colab": {
      "provenance": [],
      "toc_visible": true,
      "authorship_tag": "ABX9TyM+X7j3xllyj21P/6C4RZ/Z",
      "include_colab_link": true
    },
    "kernelspec": {
      "name": "python3",
      "display_name": "Python 3"
    },
    "language_info": {
      "name": "python"
    }
  },
  "cells": [
    {
      "cell_type": "markdown",
      "metadata": {
        "id": "view-in-github",
        "colab_type": "text"
      },
      "source": [
        "<a href=\"https://colab.research.google.com/github/saratbantupalli/python_notes/blob/main/Learning_Python.ipynb\" target=\"_parent\"><img src=\"https://colab.research.google.com/assets/colab-badge.svg\" alt=\"Open In Colab\"/></a>"
      ]
    },
    {
      "cell_type": "markdown",
      "source": [
        "# Just playing around in a notebook\n",
        "\n"
      ],
      "metadata": {
        "id": "GVqJSpDf_5z_"
      }
    },
    {
      "cell_type": "markdown",
      "source": [
        "## Basics of python\n",
        "Create a **list**!"
      ],
      "metadata": {
        "id": "4OyDWTaRKJBM"
      }
    },
    {
      "cell_type": "code",
      "execution_count": null,
      "metadata": {
        "colab": {
          "base_uri": "https://localhost:8080/"
        },
        "id": "CmOWvfKI9rh7",
        "outputId": "204c5817-17ef-4ee9-ae4e-9dd00a67998f"
      },
      "outputs": [
        {
          "output_type": "execute_result",
          "data": {
            "text/plain": [
              "[1, 'a', 3, 60]"
            ]
          },
          "metadata": {},
          "execution_count": 1
        }
      ],
      "source": [
        "[1, \"a\", 3, 60]"
      ]
    },
    {
      "cell_type": "markdown",
      "source": [
        "Save this as an object"
      ],
      "metadata": {
        "id": "lOu_XcWIAC9t"
      }
    },
    {
      "cell_type": "code",
      "source": [
        "myList = [1, \"a\", 3, 60]\n",
        "print(myList)\n",
        "myList"
      ],
      "metadata": {
        "colab": {
          "base_uri": "https://localhost:8080/"
        },
        "id": "IEYjK9o4-rsK",
        "outputId": "b8157677-f4b9-4b7f-beca-6d6812057546"
      },
      "execution_count": null,
      "outputs": [
        {
          "output_type": "stream",
          "name": "stdout",
          "text": [
            "[1, 'a', 3, 60]\n"
          ]
        },
        {
          "output_type": "execute_result",
          "data": {
            "text/plain": [
              "[1, 'a', 3, 60]"
            ]
          },
          "metadata": {},
          "execution_count": 3
        }
      ]
    },
    {
      "cell_type": "code",
      "source": [
        "myList + [2,4,5]"
      ],
      "metadata": {
        "colab": {
          "base_uri": "https://localhost:8080/"
        },
        "id": "OmvJLEl6_Myr",
        "outputId": "89420725-5360-4d4c-89c8-9eaeb06fd344"
      },
      "execution_count": null,
      "outputs": [
        {
          "output_type": "execute_result",
          "data": {
            "text/plain": [
              "[1, 'a', 3, 60, 2, 4, 5]"
            ]
          },
          "metadata": {},
          "execution_count": 4
        }
      ]
    },
    {
      "cell_type": "code",
      "source": [
        "myList * 4"
      ],
      "metadata": {
        "colab": {
          "base_uri": "https://localhost:8080/"
        },
        "id": "BCFg61Rh_WRi",
        "outputId": "faed02a5-ef49-4b5b-bc00-f254e7427204"
      },
      "execution_count": null,
      "outputs": [
        {
          "output_type": "execute_result",
          "data": {
            "text/plain": [
              "[1, 'a', 3, 60, 1, 'a', 3, 60, 1, 'a', 3, 60, 1, 'a', 3, 60]"
            ]
          },
          "metadata": {},
          "execution_count": 6
        }
      ]
    },
    {
      "cell_type": "markdown",
      "source": [
        "## Markdown\n",
        "\n",
        "We'll add some HTML widgets and play around with that."
      ],
      "metadata": {
        "id": "hFs7Ozw2KP1q"
      }
    },
    {
      "cell_type": "code",
      "source": [
        "#pip install numpy and matplotlib\n",
        "! pip install numpy\n",
        "! pip install matplotlib"
      ],
      "metadata": {
        "id": "3BtUv8ESKufL"
      },
      "execution_count": null,
      "outputs": []
    },
    {
      "cell_type": "code",
      "source": [
        "#reading in modules\n",
        "import numpy as np\n",
        "import matplotlib.pyplot as plt\n",
        "import ipywidgets as widgets"
      ],
      "metadata": {
        "id": "7wmu_kjgKYSz"
      },
      "execution_count": 3,
      "outputs": []
    },
    {
      "cell_type": "markdown",
      "source": [
        "Lets generate 100 random data avalues using numpy"
      ],
      "metadata": {
        "id": "E4DJwvtWMo8p"
      }
    },
    {
      "cell_type": "code",
      "source": [
        "rng = np.random.default_rng(12)\n",
        "vals = rng.standard_normal(100)\n",
        "vals"
      ],
      "metadata": {
        "colab": {
          "base_uri": "https://localhost:8080/"
        },
        "id": "ODeiO4p0Mu-M",
        "outputId": "aa6196e6-b83a-4c4e-af08-9e721b63909b"
      },
      "execution_count": 4,
      "outputs": [
        {
          "output_type": "execute_result",
          "data": {
            "text/plain": [
              "array([-6.82677987e-03,  1.04614329e+00,  7.41588421e-01,  7.23956542e-01,\n",
              "        1.61877622e+00, -1.20555814e+00, -6.26955471e-01, -1.32066321e+00,\n",
              "       -1.07752508e-01,  9.98763655e-01, -2.19478863e-02,  4.95880066e-01,\n",
              "       -1.91076866e+00,  1.47064166e-01, -9.06943251e-01,  1.77538939e+00,\n",
              "        8.86849076e-01,  9.49349483e-01, -5.78549625e-02,  6.12862274e-01,\n",
              "        6.57890162e-01, -3.44402666e-01, -4.97372035e-01, -1.14772783e-01,\n",
              "       -6.05452009e-01, -5.94339418e-01, -2.83375376e-01, -7.28417727e-01,\n",
              "        7.66327786e-01, -1.59608633e+00,  8.23562129e-01, -6.25566470e-01,\n",
              "       -5.45939956e-01, -1.35084714e+00, -1.44242119e-01, -2.47661509e-01,\n",
              "        1.91455831e-01, -5.33774296e-01,  9.37561793e-02,  1.81969184e+00,\n",
              "        4.08999694e-01, -5.73690037e-01,  9.53109595e-01, -1.28801134e-01,\n",
              "        5.93874468e-01,  6.12747429e-01, -3.91065717e-01, -1.93028750e+00,\n",
              "       -3.47653623e-01,  5.51455424e-01, -3.80110407e-01,  4.38969315e-01,\n",
              "        9.79540372e-01, -5.44113415e-01,  1.23135175e+00,  1.62180446e+00,\n",
              "        1.07904594e+00,  1.16546284e+00,  1.09679645e+00,  2.25453906e+00,\n",
              "        1.85860905e-01,  2.08408285e-03,  6.03107305e-01, -9.08195119e-01,\n",
              "       -1.55317676e+00, -8.82007973e-01,  3.72565350e-01,  4.73053341e-01,\n",
              "       -1.53635872e+00, -1.88346371e+00, -3.16142243e-01, -1.88056516e-01,\n",
              "       -4.92008330e-02,  6.71362447e-01,  1.22883418e+00,  2.30896430e-01,\n",
              "        6.12684704e-01, -1.09520169e+00, -1.17630801e+00,  2.36238334e-01,\n",
              "        6.64663103e-01,  7.26243456e-01,  5.92741991e-01,  7.84173709e-01,\n",
              "        8.09828030e-01, -1.75218536e+00, -7.34165769e-01,  4.55159742e-01,\n",
              "        5.96671965e-01, -1.51209241e+00,  1.17306137e+00, -4.38831924e-01,\n",
              "       -2.32424749e-01,  2.73818645e-01,  7.49635232e-01, -1.43311699e+00,\n",
              "        9.89912577e-01,  7.72934677e-02, -7.70813495e-01, -2.75273142e-01])"
            ]
          },
          "metadata": {},
          "execution_count": 4
        }
      ]
    },
    {
      "cell_type": "code",
      "source": [
        "plt.hist(vals)"
      ],
      "metadata": {
        "colab": {
          "base_uri": "https://localhost:8080/",
          "height": 519
        },
        "id": "2UIutuqPOpZF",
        "outputId": "647e3b59-449b-4bf6-d038-4e191d4e6156"
      },
      "execution_count": 5,
      "outputs": [
        {
          "output_type": "execute_result",
          "data": {
            "text/plain": [
              "(array([ 8.,  6.,  6., 17., 15., 12., 24.,  7.,  4.,  1.]),\n",
              " array([-1.9302875 , -1.51180484, -1.09332219, -0.67483953, -0.25635687,\n",
              "         0.16212578,  0.58060844,  0.99909109,  1.41757375,  1.8360564 ,\n",
              "         2.25453906]),\n",
              " <BarContainer object of 10 artists>)"
            ]
          },
          "metadata": {},
          "execution_count": 5
        },
        {
          "output_type": "display_data",
          "data": {
            "text/plain": [
              "<Figure size 640x480 with 1 Axes>"
            ],
            "image/png": "[encoded data removed]"
          },
          "metadata": {}
        }
      ]
    },
    {
      "cell_type": "code",
      "source": [
        "plt.hist(vals, bins = 12)"
      ],
      "metadata": {
        "colab": {
          "base_uri": "https://localhost:8080/",
          "height": 517
        },
        "id": "J-A94G9AOuhE",
        "outputId": "3abb9bbb-7cb6-461d-c3dc-220c06f8e00f"
      },
      "execution_count": 6,
      "outputs": [
        {
          "output_type": "execute_result",
          "data": {
            "text/plain": [
              "(array([ 5.,  6.,  5., 11., 13., 12., 11., 19., 11.,  2.,  4.,  1.]),\n",
              " array([-1.9302875 , -1.58155195, -1.2328164 , -0.88408086, -0.53534531,\n",
              "        -0.18660976,  0.16212578,  0.51086133,  0.85959687,  1.20833242,\n",
              "         1.55706797,  1.90580351,  2.25453906]),\n",
              " <BarContainer object of 12 artists>)"
            ]
          },
          "metadata": {},
          "execution_count": 6
        },
        {
          "output_type": "display_data",
          "data": {
            "text/plain": [
              "<Figure size 640x480 with 1 Axes>"
            ],
            "image/png": "[encoded data removed]"
          },
          "metadata": {}
        }
      ]
    },
    {
      "cell_type": "code",
      "source": [
        "def myPlot(bins):\n",
        "  plt.hist(vals, bins)\n",
        "\n",
        "myPlot(4)"
      ],
      "metadata": {
        "colab": {
          "base_uri": "https://localhost:8080/",
          "height": 430
        },
        "id": "ThVRbTYdO4ZF",
        "outputId": "8e1618a7-5f63-4c67-84d5-0faaca4af5f4"
      },
      "execution_count": 8,
      "outputs": [
        {
          "output_type": "display_data",
          "data": {
            "text/plain": [
              "<Figure size 640x480 with 1 Axes>"
            ],
            "image/png": "[encoded data removed]"
          },
          "metadata": {}
        }
      ]
    },
    {
      "cell_type": "code",
      "source": [
        "widgets.interactive(myPlot, bins = (1,20))"
      ],
      "metadata": {
        "id": "Qpn7AZvnPuzw"
      },
      "execution_count": null,
      "outputs": []
    },
    {
      "cell_type": "markdown",
      "source": [
        "## Strings Practice\n",
        "\n",
        "Here we'll look at some quick string methods and functions including string formatting!"
      ],
      "metadata": {
        "id": "acOauZLQnmW6"
      }
    },
    {
      "cell_type": "markdown",
      "source": [
        "1. String formatting\n",
        "\n",
        "One way to do formatting is to use {} within a string and then use the .format() method. Let's create a string that we can place values into. Something like this:\n",
        "\n",
        "\"The probability of being less than or equal to 2 for a normal distribution with mean 4 and standard deviation 1 is ...\""
      ],
      "metadata": {
        "id": "VQlFD5DyntiA"
      }
    },
    {
      "cell_type": "code",
      "source": [
        "prob_string = \"The probability of being less than or equal to {0} for a normal distribution with mean {1} and standard deviation {2} is {3}\""
      ],
      "metadata": {
        "id": "o2xJjNffP4Ey"
      },
      "execution_count": 2,
      "outputs": []
    },
    {
      "cell_type": "code",
      "source": [
        "mean = 1\n",
        "std = 2\n",
        "y = 1.55\n",
        "prob_string.format(y, mean, std, 0.5)"
      ],
      "metadata": {
        "colab": {
          "base_uri": "https://localhost:8080/",
          "height": 52
        },
        "id": "oCssoeuNog7Z",
        "outputId": "5e93e31e-2bfb-40c8-c54b-caf735645988"
      },
      "execution_count": 3,
      "outputs": [
        {
          "output_type": "execute_result",
          "data": {
            "text/plain": [
              "'The probability of being less than or equal to 1.55 for a normal distribution with mean 1 and standard deviation 2 is 0.5'"
            ],
            "application/vnd.google.colaboratory.intrinsic+json": {
              "type": "string"
            }
          },
          "metadata": {},
          "execution_count": 3
        }
      ]
    },
    {
      "cell_type": "markdown",
      "source": [
        "Now pull the `scipy.stats` stuff from above and insert the numbers using the `.format()` method."
      ],
      "metadata": {
        "id": "d4sTGK4bp6t0"
      }
    },
    {
      "cell_type": "code",
      "source": [
        "import scipy.stats as stats\n",
        "stats.norm.cdf(y, mean, std)"
      ],
      "metadata": {
        "colab": {
          "base_uri": "https://localhost:8080/"
        },
        "id": "GoiKWgUqp8LN",
        "outputId": "449821c7-1ff4-4ed3-9806-a5bce33be14b"
      },
      "execution_count": 4,
      "outputs": [
        {
          "output_type": "execute_result",
          "data": {
            "text/plain": [
              "0.6083418808463948"
            ]
          },
          "metadata": {},
          "execution_count": 4
        }
      ]
    },
    {
      "cell_type": "code",
      "source": [
        "prob_string.format(y, mean, std, round(stats.norm.cdf(y, mean, std), 4))"
      ],
      "metadata": {
        "colab": {
          "base_uri": "https://localhost:8080/",
          "height": 52
        },
        "id": "0juDEJgFfd8X",
        "outputId": "611b4f61-f89b-4f90-a7c1-212a7002b7c8"
      },
      "execution_count": 6,
      "outputs": [
        {
          "output_type": "execute_result",
          "data": {
            "text/plain": [
              "'The probability of being less than or equal to 1.55 for a normal distribution with mean 1 and standard deviation 2 is 0.6083'"
            ],
            "application/vnd.google.colaboratory.intrinsic+json": {
              "type": "string"
            }
          },
          "metadata": {},
          "execution_count": 6
        }
      ]
    },
    {
      "cell_type": "markdown",
      "source": [
        "2. Let's look at splitting up a big string of text into 'words'. This is often a first step done when doing a basic sentiment analysis of some text.\n",
        "\n",
        "  First we need a string of text to break up. [Project Gutenberg](https://www.gutenberg.org/) has some classic open works that you can get the entire text from. Here we'll pull from a cookbook called *[Practical Vegetarian Cookery](https://www.gutenberg.org/cache/epub/69812/pg69812.txt)*. We'll just grab two recipes:\n",
        "\n",
        "  > WINTER VEGETABLE PIE.\n",
        "\n",
        "  > Place in baking dish, slices of cold boiled potatoes, onions, celery,\n",
        "and carrot, then add one scant cupful of stewed tomatoes and one half\n",
        "can of peas. Cover with stock, thickened to a gravy with butter and\n",
        "flour, cover with plain crust, and bake. A pie of this nature can be\n",
        "made with a great variety of ingredients; apples, boiled chestnuts,\n",
        "onions, and potatoes make a good combination. Rice, with a grating of\n",
        "cheese, celery, onion, and tomato, another variety.\n",
        "\n",
        "  > VEGETABLE HASH.\n",
        "\n",
        "  > Of cooked and chopped vegetables, use one carrot, one blood beet, two\n",
        "turnips, two quarts of finely sliced potatoes, one onion, and a stalk\n",
        "of celery; one sprig of parsley; put them in a stew pan, cover tight,\n",
        "and set in the oven. When thoroughly heated pour over a gravy of drawn\n",
        "butter and cream. Stir together and serve.\n",
        "\n",
        "  Let's create a string with these and count variables that occur."
      ],
      "metadata": {
        "id": "QXBTkg-egnIC"
      }
    },
    {
      "cell_type": "code",
      "source": [
        "recipe = \"\"\"\n",
        "WINTER VEGETABLE PIE.\n",
        "\n",
        "Place in baking dish, slices of cold boiled potatoes, onions, celery,\n",
        "and carrot, then add one scant cupful of stewed tomatoes and one half\n",
        "can of peas. Cover with stock, thickened to a gravy with butter and\n",
        "flour, cover with plain crust, and bake. A pie of this nature can be\n",
        "made with a great variety of ingredients; apples, boiled chestnuts,\n",
        "onions, and potatoes make a good combination. Rice, with a grating of\n",
        "cheese, celery, onion, and tomato, another variety.\n",
        "\n",
        "VEGETABLE HASH.\n",
        "\n",
        "Of cooked and chopped vegetables, use one carrot, one blood beet, two\n",
        "turnips, two quarts of finely sliced potatoes, one onion, and a stalk\n",
        "of celery; one sprig of parsley; put them in a stew pan, cover tight,\n",
        "and set in the oven. When thoroughly heated pour over a gravy of drawn\n",
        "butter and cream. Stir together and serve.\n",
        "\"\"\"\n",
        "\n",
        "recipe"
      ],
      "metadata": {
        "id": "IHSz9uPHgxRF"
      },
      "execution_count": null,
      "outputs": []
    },
    {
      "cell_type": "markdown",
      "source": [
        "Replace the `\\n`, `,`, and `.` values with a space instead. Lowercase everything with the `.lower()` method and then `.strip()` to remove the excess whitespace.  Finally, the `.split()` method gives us a list with each element being a word from the document."
      ],
      "metadata": {
        "id": "A8kvmxoJoOk3"
      }
    },
    {
      "cell_type": "code",
      "source": [
        "recipe_split = recipe.replace(\"\\n\", \" \") \\\n",
        ".replace(\".\", \" \") \\\n",
        ".replace(\",\", \" \") \\\n",
        ".replace(\";\", \" \") \\\n",
        ".lower() \\\n",
        ".strip() \\\n",
        ".split(\" \")"
      ],
      "metadata": {
        "id": "towLjBekoS-0"
      },
      "execution_count": 8,
      "outputs": []
    },
    {
      "cell_type": "code",
      "source": [],
      "metadata": {
        "id": "peS0D67Xo90b"
      },
      "execution_count": null,
      "outputs": []
    },
    {
      "cell_type": "markdown",
      "source": [
        "Now we can see how often different words come up."
      ],
      "metadata": {
        "id": "bbhnFKPxp6dW"
      }
    },
    {
      "cell_type": "code",
      "source": [
        "type(recipe_split)\n",
        "recipe_split.count(\"potatoes\")"
      ],
      "metadata": {
        "colab": {
          "base_uri": "https://localhost:8080/"
        },
        "id": "7t36wOoQp9qf",
        "outputId": "2745264f-13d9-45e8-e3a2-4325bff1d87d"
      },
      "execution_count": 10,
      "outputs": [
        {
          "output_type": "execute_result",
          "data": {
            "text/plain": [
              "3"
            ]
          },
          "metadata": {},
          "execution_count": 10
        }
      ]
    },
    {
      "cell_type": "markdown",
      "source": [
        "## Math Types (Including Booleans)\n",
        "\n",
        "Remember that things can't be stored precisely so you may sometimes run into issues where two things should be equal but don't resolve as equal."
      ],
      "metadata": {
        "id": "nHQj5dJBvAh0"
      }
    },
    {
      "cell_type": "code",
      "source": [
        "from math import sqrt\n",
        "sqrt(2)**2 == 2"
      ],
      "metadata": {
        "colab": {
          "base_uri": "https://localhost:8080/"
        },
        "id": "X7i9lQASvGct",
        "outputId": "182dd1d0-183f-4b00-85eb-36468099ba61"
      },
      "execution_count": 12,
      "outputs": [
        {
          "output_type": "execute_result",
          "data": {
            "text/plain": [
              "False"
            ]
          },
          "metadata": {},
          "execution_count": 12
        }
      ]
    },
    {
      "cell_type": "markdown",
      "source": [
        "Use the isclose() from numpy to check things like this."
      ],
      "metadata": {
        "id": "V7SKOtmKvxiN"
      }
    },
    {
      "cell_type": "code",
      "source": [
        "import numpy as np\n",
        "np.isclose(sqrt(2)**2,2)"
      ],
      "metadata": {
        "colab": {
          "base_uri": "https://localhost:8080/"
        },
        "id": "l511ZEc8v1aV",
        "outputId": "8d29c036-ba27-442e-957f-384cb97c1a05"
      },
      "execution_count": 13,
      "outputs": [
        {
          "output_type": "execute_result",
          "data": {
            "text/plain": [
              "True"
            ]
          },
          "metadata": {},
          "execution_count": 13
        }
      ]
    },
    {
      "cell_type": "markdown",
      "source": [
        "We should have an idea about inf, -inf, and nan values in python. nan values can be returned when a mathematical function is used outside of its domain for instance. Here is the norm.ppf() function. This returns the value from the standard normal with a certain proportion of the distribution to the left of it (proportion specified by the value you feed the function). These values should of course be between 0 and 1."
      ],
      "metadata": {
        "id": "bXt3dD0JwDCB"
      }
    },
    {
      "cell_type": "code",
      "source": [
        "import scipy.stats as stats\n",
        "stats.norm().ppf(0.5)"
      ],
      "metadata": {
        "colab": {
          "base_uri": "https://localhost:8080/"
        },
        "id": "4zBGYj88wGU-",
        "outputId": "69dd35eb-1b2d-45e1-9f97-911c909ea858"
      },
      "execution_count": 14,
      "outputs": [
        {
          "output_type": "execute_result",
          "data": {
            "text/plain": [
              "0.0"
            ]
          },
          "metadata": {},
          "execution_count": 14
        }
      ]
    },
    {
      "cell_type": "markdown",
      "source": [
        "What happens if we give a value like -1?"
      ],
      "metadata": {
        "id": "mvp7VN0owvEO"
      }
    },
    {
      "cell_type": "code",
      "source": [
        "stats.norm.ppf(-0.1)\n",
        "np.isnan(stats.norm.ppf(-0.1))"
      ],
      "metadata": {
        "colab": {
          "base_uri": "https://localhost:8080/"
        },
        "id": "qpSyls83wkQV",
        "outputId": "94ce1376-1321-4347-a229-5b00c53bca31"
      },
      "execution_count": 19,
      "outputs": [
        {
          "output_type": "execute_result",
          "data": {
            "text/plain": [
              "True"
            ]
          },
          "metadata": {},
          "execution_count": 19
        }
      ]
    },
    {
      "cell_type": "markdown",
      "source": [
        "Infinite values can pop up too. There are lots of ways to create an infinite value via casting as well."
      ],
      "metadata": {
        "id": "5PkxNbC5w2Kr"
      }
    },
    {
      "cell_type": "code",
      "source": [
        "float(1)\n",
        "float(\"Inf\")\n",
        "-float(\"Inf\")"
      ],
      "metadata": {
        "colab": {
          "base_uri": "https://localhost:8080/"
        },
        "id": "TNhEskBQw2i5",
        "outputId": "37f999fc-3def-4980-9669-b158b0f9b0fc"
      },
      "execution_count": 18,
      "outputs": [
        {
          "output_type": "execute_result",
          "data": {
            "text/plain": [
              "-inf"
            ]
          },
          "metadata": {},
          "execution_count": 18
        }
      ]
    },
    {
      "cell_type": "markdown",
      "source": [
        "Let's update our string from before with digits! (Note that using floating point for z and integers for mean and standard deviation doesn't really make sense, I'm just showing the functionality!)"
      ],
      "metadata": {
        "id": "uL2k1516xMqT"
      }
    },
    {
      "cell_type": "code",
      "source": [
        "mean = 1\n",
        "std = 2\n",
        "y = 1.55\n",
        "prob_string = \"The probability of being less than or equal to {y:.2f} for a normal distribution with mean {mean:d} and standard deviation {std:d} is {prob:.4f}\"\n",
        "\n",
        "prob_string.format(y = y, mean = mean, std  = std, prob = stats.norm.cdf(y, mean, std))"
      ],
      "metadata": {
        "colab": {
          "base_uri": "https://localhost:8080/",
          "height": 52
        },
        "id": "4-06wqWoxNFk",
        "outputId": "77dd3535-ca34-47b1-8b13-57462465cf06"
      },
      "execution_count": 23,
      "outputs": [
        {
          "output_type": "execute_result",
          "data": {
            "text/plain": [
              "'The probability of being less than or equal to 1.55 for a normal distribution with mean 1 and standard deviation 2 is 0.6083'"
            ],
            "application/vnd.google.colaboratory.intrinsic+json": {
              "type": "string"
            }
          },
          "metadata": {},
          "execution_count": 23
        }
      ]
    }
  ]
}