{
  "nbformat": 4,
  "nbformat_minor": 0,
  "metadata": {
    "colab": {
      "provenance": [],
      "toc_visible": true,
      "authorship_tag": "ABX9TyMWhJTmFC1yxS/dS6UKbUc5",
      "include_colab_link": true
    },
    "kernelspec": {
      "name": "python3",
      "display_name": "Python 3"
    },
    "language_info": {
      "name": "python"
    },
    "widgets": {
      "application/vnd.jupyter.widget-state+json": {
        "c76dbdd66c45479290b827107b5e7e9c": {
          "model_module": "@jupyter-widgets/controls",
          "model_name": "VBoxModel",
          "model_module_version": "1.5.0",
          "state": {
            "_dom_classes": [
              "widget-interact"
            ],
            "_model_module": "@jupyter-widgets/controls",
            "_model_module_version": "1.5.0",
            "_model_name": "VBoxModel",
            "_view_count": null,
            "_view_module": "@jupyter-widgets/controls",
            "_view_module_version": "1.5.0",
            "_view_name": "VBoxView",
            "box_style": "",
            "children": [
              "IPY_MODEL_ab93b1f567fe4c69967558dfaae1be22",
              "IPY_MODEL_6cd909d0171445d18b745470fe062ba9"
            ],
            "layout": "IPY_MODEL_7db4a96da08447349bce51d52e0b7384"
          }
        },
        "ab93b1f567fe4c69967558dfaae1be22": {
          "model_module": "@jupyter-widgets/controls",
          "model_name": "IntSliderModel",
          "model_module_version": "1.5.0",
          "state": {
            "_dom_classes": [],
            "_model_module": "@jupyter-widgets/controls",
            "_model_module_version": "1.5.0",
            "_model_name": "IntSliderModel",
            "_view_count": null,
            "_view_module": "@jupyter-widgets/controls",
            "_view_module_version": "1.5.0",
            "_view_name": "IntSliderView",
            "continuous_update": true,
            "description": "bins",
            "description_tooltip": null,
            "disabled": false,
            "layout": "IPY_MODEL_ad61ad51a3ab4e1b954b9403a730dc63",
            "max": 20,
            "min": 1,
            "orientation": "horizontal",
            "readout": true,
            "readout_format": "d",
            "step": 1,
            "style": "IPY_MODEL_9e597197e4534b888ed51cfd00d8f024",
            "value": 11
          }
        },
        "6cd909d0171445d18b745470fe062ba9": {
          "model_module": "@jupyter-widgets/output",
          "model_name": "OutputModel",
          "model_module_version": "1.0.0",
          "state": {
            "_dom_classes": [],
            "_model_module": "@jupyter-widgets/output",
            "_model_module_version": "1.0.0",
            "_model_name": "OutputModel",
            "_view_count": null,
            "_view_module": "@jupyter-widgets/output",
            "_view_module_version": "1.0.0",
            "_view_name": "OutputView",
            "layout": "IPY_MODEL_52d573ed62934028b89ccbe5f23dfc18",
            "msg_id": "",
            "outputs": []
          }
        },
        "7db4a96da08447349bce51d52e0b7384": {
          "model_module": "@jupyter-widgets/base",
          "model_name": "LayoutModel",
          "model_module_version": "1.2.0",
          "state": {
            "_model_module": "@jupyter-widgets/base",
            "_model_module_version": "1.2.0",
            "_model_name": "LayoutModel",
            "_view_count": null,
            "_view_module": "@jupyter-widgets/base",
            "_view_module_version": "1.2.0",
            "_view_name": "LayoutView",
            "align_content": null,
            "align_items": null,
            "align_self": null,
            "border": null,
            "bottom": null,
            "display": null,
            "flex": null,
            "flex_flow": null,
            "grid_area": null,
            "grid_auto_columns": null,
            "grid_auto_flow": null,
            "grid_auto_rows": null,
            "grid_column": null,
            "grid_gap": null,
            "grid_row": null,
            "grid_template_areas": null,
            "grid_template_columns": null,
            "grid_template_rows": null,
            "height": null,
            "justify_content": null,
            "justify_items": null,
            "left": null,
            "margin": null,
            "max_height": null,
            "max_width": null,
            "min_height": null,
            "min_width": null,
            "object_fit": null,
            "object_position": null,
            "order": null,
            "overflow": null,
            "overflow_x": null,
            "overflow_y": null,
            "padding": null,
            "right": null,
            "top": null,
            "visibility": null,
            "width": null
          }
        },
        "ad61ad51a3ab4e1b954b9403a730dc63": {
          "model_module": "@jupyter-widgets/base",
          "model_name": "LayoutModel",
          "model_module_version": "1.2.0",
          "state": {
            "_model_module": "@jupyter-widgets/base",
            "_model_module_version": "1.2.0",
            "_model_name": "LayoutModel",
            "_view_count": null,
            "_view_module": "@jupyter-widgets/base",
            "_view_module_version": "1.2.0",
            "_view_name": "LayoutView",
            "align_content": null,
            "align_items": null,
            "align_self": null,
            "border": null,
            "bottom": null,
            "display": null,
            "flex": null,
            "flex_flow": null,
            "grid_area": null,
            "grid_auto_columns": null,
            "grid_auto_flow": null,
            "grid_auto_rows": null,
            "grid_column": null,
            "grid_gap": null,
            "grid_row": null,
            "grid_template_areas": null,
            "grid_template_columns": null,
            "grid_template_rows": null,
            "height": null,
            "justify_content": null,
            "justify_items": null,
            "left": null,
            "margin": null,
            "max_height": null,
            "max_width": null,
            "min_height": null,
            "min_width": null,
            "object_fit": null,
            "object_position": null,
            "order": null,
            "overflow": null,
            "overflow_x": null,
            "overflow_y": null,
            "padding": null,
            "right": null,
            "top": null,
            "visibility": null,
            "width": null
          }
        },
        "9e597197e4534b888ed51cfd00d8f024": {
          "model_module": "@jupyter-widgets/controls",
          "model_name": "SliderStyleModel",
          "model_module_version": "1.5.0",
          "state": {
            "_model_module": "@jupyter-widgets/controls",
            "_model_module_version": "1.5.0",
            "_model_name": "SliderStyleModel",
            "_view_count": null,
            "_view_module": "@jupyter-widgets/base",
            "_view_module_version": "1.2.0",
            "_view_name": "StyleView",
            "description_width": "",
            "handle_color": null
          }
        },
        "52d573ed62934028b89ccbe5f23dfc18": {
          "model_module": "@jupyter-widgets/base",
          "model_name": "LayoutModel",
          "model_module_version": "1.2.0",
          "state": {
            "_model_module": "@jupyter-widgets/base",
            "_model_module_version": "1.2.0",
            "_model_name": "LayoutModel",
            "_view_count": null,
            "_view_module": "@jupyter-widgets/base",
            "_view_module_version": "1.2.0",
            "_view_name": "LayoutView",
            "align_content": null,
            "align_items": null,
            "align_self": null,
            "border": null,
            "bottom": null,
            "display": null,
            "flex": null,
            "flex_flow": null,
            "grid_area": null,
            "grid_auto_columns": null,
            "grid_auto_flow": null,
            "grid_auto_rows": null,
            "grid_column": null,
            "grid_gap": null,
            "grid_row": null,
            "grid_template_areas": null,
            "grid_template_columns": null,
            "grid_template_rows": null,
            "height": null,
            "justify_content": null,
            "justify_items": null,
            "left": null,
            "margin": null,
            "max_height": null,
            "max_width": null,
            "min_height": null,
            "min_width": null,
            "object_fit": null,
            "object_position": null,
            "order": null,
            "overflow": null,
            "overflow_x": null,
            "overflow_y": null,
            "padding": null,
            "right": null,
            "top": null,
            "visibility": null,
            "width": null
          }
        }
      }
    }
  },
  "cells": [
    {
      "cell_type": "markdown",
      "metadata": {
        "id": "view-in-github",
        "colab_type": "text"
      },
      "source": [
        "<a href=\"https://colab.research.google.com/github/saratbantupalli/python_notes/blob/main/Learning_Python.ipynb\" target=\"_parent\"><img src=\"https://colab.research.google.com/assets/colab-badge.svg\" alt=\"Open In Colab\"/></a>"
      ]
    },
    {
      "cell_type": "markdown",
      "source": [
        "# Just playing around in a notebook\n",
        "\n"
      ],
      "metadata": {
        "id": "GVqJSpDf_5z_"
      }
    },
    {
      "cell_type": "markdown",
      "source": [
        "## Basics of python\n",
        "Create a **list**!"
      ],
      "metadata": {
        "id": "4OyDWTaRKJBM"
      }
    },
    {
      "cell_type": "code",
      "execution_count": null,
      "metadata": {
        "colab": {
          "base_uri": "https://localhost:8080/"
        },
        "id": "CmOWvfKI9rh7",
        "outputId": "204c5817-17ef-4ee9-ae4e-9dd00a67998f"
      },
      "outputs": [
        {
          "output_type": "execute_result",
          "data": {
            "text/plain": [
              "[1, 'a', 3, 60]"
            ]
          },
          "metadata": {},
          "execution_count": 1
        }
      ],
      "source": [
        "[1, \"a\", 3, 60]"
      ]
    },
    {
      "cell_type": "markdown",
      "source": [
        "Save this as an object"
      ],
      "metadata": {
        "id": "lOu_XcWIAC9t"
      }
    },
    {
      "cell_type": "code",
      "source": [
        "myList = [1, \"a\", 3, 60]\n",
        "print(myList)\n",
        "myList"
      ],
      "metadata": {
        "colab": {
          "base_uri": "https://localhost:8080/"
        },
        "id": "IEYjK9o4-rsK",
        "outputId": "b8157677-f4b9-4b7f-beca-6d6812057546"
      },
      "execution_count": null,
      "outputs": [
        {
          "output_type": "stream",
          "name": "stdout",
          "text": [
            "[1, 'a', 3, 60]\n"
          ]
        },
        {
          "output_type": "execute_result",
          "data": {
            "text/plain": [
              "[1, 'a', 3, 60]"
            ]
          },
          "metadata": {},
          "execution_count": 3
        }
      ]
    },
    {
      "cell_type": "code",
      "source": [
        "myList + [2,4,5]"
      ],
      "metadata": {
        "colab": {
          "base_uri": "https://localhost:8080/"
        },
        "id": "OmvJLEl6_Myr",
        "outputId": "89420725-5360-4d4c-89c8-9eaeb06fd344"
      },
      "execution_count": null,
      "outputs": [
        {
          "output_type": "execute_result",
          "data": {
            "text/plain": [
              "[1, 'a', 3, 60, 2, 4, 5]"
            ]
          },
          "metadata": {},
          "execution_count": 4
        }
      ]
    },
    {
      "cell_type": "code",
      "source": [
        "myList * 4"
      ],
      "metadata": {
        "colab": {
          "base_uri": "https://localhost:8080/"
        },
        "id": "BCFg61Rh_WRi",
        "outputId": "faed02a5-ef49-4b5b-bc00-f254e7427204"
      },
      "execution_count": null,
      "outputs": [
        {
          "output_type": "execute_result",
          "data": {
            "text/plain": [
              "[1, 'a', 3, 60, 1, 'a', 3, 60, 1, 'a', 3, 60, 1, 'a', 3, 60]"
            ]
          },
          "metadata": {},
          "execution_count": 6
        }
      ]
    },
    {
      "cell_type": "markdown",
      "source": [
        "## Markdown\n",
        "\n",
        "We'll add some HTML widgets and play around with that."
      ],
      "metadata": {
        "id": "hFs7Ozw2KP1q"
      }
    },
    {
      "cell_type": "code",
      "source": [
        "#pip install numpy and matplotlib\n",
        "! pip install numpy\n",
        "! pip install matplotlib"
      ],
      "metadata": {
        "id": "3BtUv8ESKufL",
        "outputId": "1694b52e-5f41-46fe-dce5-a138fa05615a",
        "colab": {
          "base_uri": "https://localhost:8080/"
        }
      },
      "execution_count": 1,
      "outputs": [
        {
          "output_type": "stream",
          "name": "stdout",
          "text": [
            "Requirement already satisfied: numpy in /usr/local/lib/python3.10/dist-packages (1.26.4)\n",
            "Requirement already satisfied: matplotlib in /usr/local/lib/python3.10/dist-packages (3.10.0)\n",
            "Requirement already satisfied: contourpy>=1.0.1 in /usr/local/lib/python3.10/dist-packages (from matplotlib) (1.3.1)\n",
            "Requirement already satisfied: cycler>=0.10 in /usr/local/lib/python3.10/dist-packages (from matplotlib) (0.12.1)\n",
            "Requirement already satisfied: fonttools>=4.22.0 in /usr/local/lib/python3.10/dist-packages (from matplotlib) (4.55.3)\n",
            "Requirement already satisfied: kiwisolver>=1.3.1 in /usr/local/lib/python3.10/dist-packages (from matplotlib) (1.4.8)\n",
            "Requirement already satisfied: numpy>=1.23 in /usr/local/lib/python3.10/dist-packages (from matplotlib) (1.26.4)\n",
            "Requirement already satisfied: packaging>=20.0 in /usr/local/lib/python3.10/dist-packages (from matplotlib) (24.2)\n",
            "Requirement already satisfied: pillow>=8 in /usr/local/lib/python3.10/dist-packages (from matplotlib) (11.1.0)\n",
            "Requirement already satisfied: pyparsing>=2.3.1 in /usr/local/lib/python3.10/dist-packages (from matplotlib) (3.2.1)\n",
            "Requirement already satisfied: python-dateutil>=2.7 in /usr/local/lib/python3.10/dist-packages (from matplotlib) (2.8.2)\n",
            "Requirement already satisfied: six>=1.5 in /usr/local/lib/python3.10/dist-packages (from python-dateutil>=2.7->matplotlib) (1.17.0)\n"
          ]
        }
      ]
    },
    {
      "cell_type": "code",
      "source": [
        "#reading in modules\n",
        "import numpy as np\n",
        "import matplotlib.pyplot as plt\n",
        "import ipywidgets as widgets"
      ],
      "metadata": {
        "id": "7wmu_kjgKYSz"
      },
      "execution_count": 3,
      "outputs": []
    },
    {
      "cell_type": "markdown",
      "source": [
        "Lets generate 100 random data avalues using numpy"
      ],
      "metadata": {
        "id": "E4DJwvtWMo8p"
      }
    },
    {
      "cell_type": "code",
      "source": [
        "rng = np.random.default_rng(12)\n",
        "vals = rng.standard_normal(100)\n",
        "vals"
      ],
      "metadata": {
        "id": "ODeiO4p0Mu-M",
        "outputId": "aa6196e6-b83a-4c4e-af08-9e721b63909b",
        "colab": {
          "base_uri": "https://localhost:8080/"
        }
      },
      "execution_count": 4,
      "outputs": [
        {
          "output_type": "execute_result",
          "data": {
            "text/plain": [
              "array([-6.82677987e-03,  1.04614329e+00,  7.41588421e-01,  7.23956542e-01,\n",
              "        1.61877622e+00, -1.20555814e+00, -6.26955471e-01, -1.32066321e+00,\n",
              "       -1.07752508e-01,  9.98763655e-01, -2.19478863e-02,  4.95880066e-01,\n",
              "       -1.91076866e+00,  1.47064166e-01, -9.06943251e-01,  1.77538939e+00,\n",
              "        8.86849076e-01,  9.49349483e-01, -5.78549625e-02,  6.12862274e-01,\n",
              "        6.57890162e-01, -3.44402666e-01, -4.97372035e-01, -1.14772783e-01,\n",
              "       -6.05452009e-01, -5.94339418e-01, -2.83375376e-01, -7.28417727e-01,\n",
              "        7.66327786e-01, -1.59608633e+00,  8.23562129e-01, -6.25566470e-01,\n",
              "       -5.45939956e-01, -1.35084714e+00, -1.44242119e-01, -2.47661509e-01,\n",
              "        1.91455831e-01, -5.33774296e-01,  9.37561793e-02,  1.81969184e+00,\n",
              "        4.08999694e-01, -5.73690037e-01,  9.53109595e-01, -1.28801134e-01,\n",
              "        5.93874468e-01,  6.12747429e-01, -3.91065717e-01, -1.93028750e+00,\n",
              "       -3.47653623e-01,  5.51455424e-01, -3.80110407e-01,  4.38969315e-01,\n",
              "        9.79540372e-01, -5.44113415e-01,  1.23135175e+00,  1.62180446e+00,\n",
              "        1.07904594e+00,  1.16546284e+00,  1.09679645e+00,  2.25453906e+00,\n",
              "        1.85860905e-01,  2.08408285e-03,  6.03107305e-01, -9.08195119e-01,\n",
              "       -1.55317676e+00, -8.82007973e-01,  3.72565350e-01,  4.73053341e-01,\n",
              "       -1.53635872e+00, -1.88346371e+00, -3.16142243e-01, -1.88056516e-01,\n",
              "       -4.92008330e-02,  6.71362447e-01,  1.22883418e+00,  2.30896430e-01,\n",
              "        6.12684704e-01, -1.09520169e+00, -1.17630801e+00,  2.36238334e-01,\n",
              "        6.64663103e-01,  7.26243456e-01,  5.92741991e-01,  7.84173709e-01,\n",
              "        8.09828030e-01, -1.75218536e+00, -7.34165769e-01,  4.55159742e-01,\n",
              "        5.96671965e-01, -1.51209241e+00,  1.17306137e+00, -4.38831924e-01,\n",
              "       -2.32424749e-01,  2.73818645e-01,  7.49635232e-01, -1.43311699e+00,\n",
              "        9.89912577e-01,  7.72934677e-02, -7.70813495e-01, -2.75273142e-01])"
            ]
          },
          "metadata": {},
          "execution_count": 4
        }
      ]
    },
    {
      "cell_type": "code",
      "source": [
        "plt.hist(vals)"
      ],
      "metadata": {
        "id": "2UIutuqPOpZF",
        "outputId": "647e3b59-449b-4bf6-d038-4e191d4e6156",
        "colab": {
          "base_uri": "https://localhost:8080/",
          "height": 519
        }
      },
      "execution_count": 5,
      "outputs": [
        {
          "output_type": "execute_result",
          "data": {
            "text/plain": [
              "(array([ 8.,  6.,  6., 17., 15., 12., 24.,  7.,  4.,  1.]),\n",
              " array([-1.9302875 , -1.51180484, -1.09332219, -0.67483953, -0.25635687,\n",
              "         0.16212578,  0.58060844,  0.99909109,  1.41757375,  1.8360564 ,\n",
              "         2.25453906]),\n",
              " <BarContainer object of 10 artists>)"
            ]
          },
          "metadata": {},
          "execution_count": 5
        },
        {
          "output_type": "display_data",
          "data": {
            "text/plain": [
              "<Figure size 640x480 with 1 Axes>"
            ],
            "image/png": "[encoded data removed]"
          },
          "metadata": {}
        }
      ]
    },
    {
      "cell_type": "code",
      "source": [
        "plt.hist(vals, bins = 12)"
      ],
      "metadata": {
        "id": "J-A94G9AOuhE",
        "outputId": "3abb9bbb-7cb6-461d-c3dc-220c06f8e00f",
        "colab": {
          "base_uri": "https://localhost:8080/",
          "height": 517
        }
      },
      "execution_count": 6,
      "outputs": [
        {
          "output_type": "execute_result",
          "data": {
            "text/plain": [
              "(array([ 5.,  6.,  5., 11., 13., 12., 11., 19., 11.,  2.,  4.,  1.]),\n",
              " array([-1.9302875 , -1.58155195, -1.2328164 , -0.88408086, -0.53534531,\n",
              "        -0.18660976,  0.16212578,  0.51086133,  0.85959687,  1.20833242,\n",
              "         1.55706797,  1.90580351,  2.25453906]),\n",
              " <BarContainer object of 12 artists>)"
            ]
          },
          "metadata": {},
          "execution_count": 6
        },
        {
          "output_type": "display_data",
          "data": {
            "text/plain": [
              "<Figure size 640x480 with 1 Axes>"
            ],
            "image/png": "[encoded data removed]"
          },
          "metadata": {}
        }
      ]
    },
    {
      "cell_type": "code",
      "source": [
        "def myPlot(bins):\n",
        "  plt.hist(vals, bins)\n",
        "\n",
        "myPlot(4)"
      ],
      "metadata": {
        "id": "ThVRbTYdO4ZF",
        "outputId": "8e1618a7-5f63-4c67-84d5-0faaca4af5f4",
        "colab": {
          "base_uri": "https://localhost:8080/",
          "height": 430
        }
      },
      "execution_count": 8,
      "outputs": [
        {
          "output_type": "display_data",
          "data": {
            "text/plain": [
              "<Figure size 640x480 with 1 Axes>"
            ],
            "image/png": "[encoded data removed]"
          },
          "metadata": {}
        }
      ]
    },
    {
      "cell_type": "code",
      "source": [
        "widgets.interactive(myPlot, bins = (1,20))"
      ],
      "metadata": {
        "id": "Qpn7AZvnPuzw",
        "outputId": "f92ae2e5-d1f1-49d1-e33f-83d4cfe45df1",
        "colab": {
          "base_uri": "https://localhost:8080/",
          "height": 1000,
          "referenced_widgets": [
            "c76dbdd66c45479290b827107b5e7e9c",
            "ab93b1f567fe4c69967558dfaae1be22",
            "6cd909d0171445d18b745470fe062ba9",
            "7db4a96da08447349bce51d52e0b7384",
            "ad61ad51a3ab4e1b954b9403a730dc63",
            "9e597197e4534b888ed51cfd00d8f024",
            "52d573ed62934028b89ccbe5f23dfc18"
          ]
        }
      },
      "execution_count": 9,
      "outputs": [
        {
          "output_type": "display_data",
          "data": {
            "text/plain": [
              "interactive(children=(IntSlider(value=10, description='bins', max=20, min=1), Output()), _dom_classes=('widget…"
            ],
            "application/vnd.jupyter.widget-view+json": {
              "version_major": 2,
              "version_minor": 0,
              "model_id": "c76dbdd66c45479290b827107b5e7e9c"
            }
          },
          "metadata": {}
        },
        {
          "output_type": "display_data",
          "data": {
            "text/plain": [
              "<Figure size 640x480 with 1 Axes>"
            ],
            "image/png": "[encoded data removed]"
          },
          "metadata": {}
        },
        {
          "output_type": "display_data",
          "data": {
            "text/plain": [
              "<Figure size 640x480 with 1 Axes>"
            ],
            "image/png": "[encoded data removed]"
          },
          "metadata": {}
        },
        {
          "output_type": "display_data",
          "data": {
            "text/plain": [
              "<Figure size 640x480 with 1 Axes>"
            ],
            "image/png": "[encoded data removed]"
          },
          "metadata": {}
        },
        {
          "output_type": "display_data",
          "data": {
            "text/plain": [
              "<Figure size 640x480 with 1 Axes>"
            ],
            "image/png": "[encoded data removed]"
          },
          "metadata": {}
        },
        {
          "output_type": "display_data",
          "data": {
            "text/plain": [
              "<Figure size 640x480 with 1 Axes>"
            ],
            "image/png": "[encoded data removed]"
          },
          "metadata": {}
        }
      ]
    },
    {
      "cell_type": "code",
      "source": [],
      "metadata": {
        "id": "o2xJjNffP4Ey"
      },
      "execution_count": null,
      "outputs": []
    }
  ]
}